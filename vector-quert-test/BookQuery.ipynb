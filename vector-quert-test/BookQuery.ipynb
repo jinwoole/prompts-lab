{
 "cells": [
  {
   "cell_type": "code",
   "execution_count": 23,
   "metadata": {
    "ExecuteTime": {
     "end_time": "2023-04-23T10:07:50.192862Z",
     "start_time": "2023-04-23T10:07:49.805375Z"
    },
    "collapsed": false
   },
   "outputs": [],
   "source": [
    "from langchain.document_loaders import PyPDFLoader\n",
    "loader = PyPDFLoader(\"source/memory.pdf\")\n",
    "doc = loader.load()"
   ]
  },
  {
   "cell_type": "code",
   "execution_count": 47,
   "metadata": {
    "ExecuteTime": {
     "end_time": "2023-04-23T10:16:10.070015Z",
     "start_time": "2023-04-23T10:16:10.064122Z"
    },
    "collapsed": false
   },
   "outputs": [
    {
     "name": "stdout",
     "output_type": "stream",
     "text": [
      "18\n",
      "2012\n",
      "1804\n"
     ]
    }
   ],
   "source": [
    "print(len(doc))\n",
    "print(len(doc[0].page_content))\n",
    "print(len(doc[17].page_content))\n"
   ]
  },
  {
   "cell_type": "code",
   "execution_count": 98,
   "metadata": {
    "ExecuteTime": {
     "end_time": "2023-04-23T10:33:13.904011Z",
     "start_time": "2023-04-23T10:33:13.903237Z"
    },
    "collapsed": true
   },
   "outputs": [],
   "source": [
    "# 페이지 단위 분할 대신, 500토큰 단위로 더 잘게 자른 실\n",
    "# from langchain.text_splitter import RecursiveCharacterTextSplitter\n",
    "# text_splitter = RecursiveCharacterTextSplitter(chunk_size=500, chunk_overlap=0)\n",
    "# texts = []\n",
    "#\n",
    "# for i in range(len(doc)):\n",
    "#     texts += text_splitter.create_documents([doc[0].page_content])\n",
    "#\n",
    "# len(texts)\n",
    "# len(texts[2].page_content)\n",
    "texts = doc"
   ]
  },
  {
   "cell_type": "code",
   "execution_count": 52,
   "metadata": {
    "ExecuteTime": {
     "end_time": "2023-04-23T10:17:22.308092Z",
     "start_time": "2023-04-23T10:17:21.015680Z"
    },
    "collapsed": false
   },
   "outputs": [
    {
     "name": "stderr",
     "output_type": "stream",
     "text": [
      "/Users/lee/db-connection-test/venv/lib/python3.11/site-packages/pinecone/index.py:4: TqdmExperimentalWarning: Using `tqdm.autonotebook.tqdm` in notebook mode. Use `tqdm.tqdm` instead to force console mode (e.g. in jupyter console)\n",
      "  from tqdm.autonotebook import tqdm\n"
     ]
    }
   ],
   "source": [
    "from langchain.embeddings.openai import OpenAIEmbeddings\n",
    "from langchain.vectorstores import Pinecone\n",
    "import pinecone #쓰긴 편하지만, 로컬 벡터 베이터베이스를 사용하는게 여러모로 더 나아보인다."
   ]
  },
  {
   "cell_type": "code",
   "execution_count": 56,
   "metadata": {
    "ExecuteTime": {
     "end_time": "2023-04-23T10:18:33.546467Z",
     "start_time": "2023-04-23T10:18:33.038474Z"
    },
    "collapsed": false
   },
   "outputs": [],
   "source": [
    "pinecone.init( #pinecone.io에 들어가서, 회원가입 하면 API Keys 확인할 수 있다.\n",
    "    api_key=\"api 키 넣는 곳\",\n",
    "    environment=\"us-west4-gcp\"\n",
    ")\n",
    "index_name = \"osmemory\""
   ]
  },
  {
   "cell_type": "code",
   "execution_count": 54,
   "metadata": {
    "ExecuteTime": {
     "end_time": "2023-04-23T10:18:14.600219Z",
     "start_time": "2023-04-23T10:18:02.128118Z"
    },
    "collapsed": false
   },
   "outputs": [],
   "source": [
    "embeddings = OpenAIEmbeddings(openai_api_key=\"api 키 넣는 곳\")"
   ]
  },
  {
   "cell_type": "code",
   "execution_count": 99,
   "metadata": {
    "ExecuteTime": {
     "end_time": "2023-04-23T10:36:04.955547Z",
     "start_time": "2023-04-23T10:34:09.159707Z"
    },
    "collapsed": false
   },
   "outputs": [],
   "source": [
    "if index_name not in pinecone.list_indexes(): #db만들기. 웹페이지에서 create index할 필요 없다.\n",
    "    pinecone.create_index(index_name, dimension=1536)\n",
    "\n",
    "index = pinecone.Index(index_name)"
   ]
  },
  {
   "cell_type": "code",
   "execution_count": 100,
   "metadata": {
    "ExecuteTime": {
     "end_time": "2023-04-23T10:37:45.158671Z",
     "start_time": "2023-04-23T10:37:38.967040Z"
    },
    "collapsed": false
   },
   "outputs": [],
   "source": [
    "docsearch = Pinecone.from_texts( #openai ada2로 임베딩\n",
    "    [t.page_content for t in texts], embeddings, index_name=index_name\n",
    ")"
   ]
  },
  {
   "cell_type": "code",
   "execution_count": 60,
   "metadata": {
    "ExecuteTime": {
     "end_time": "2023-04-23T10:23:27.338577Z",
     "start_time": "2023-04-23T10:23:27.338402Z"
    },
    "collapsed": false
   },
   "outputs": [],
   "source": [
    "from langchain.llms import OpenAI #이제, 뽑아온 db정보를 바탕으로 검색해보자\n",
    "from langchain.chains.question_answering import load_qa_chain"
   ]
  },
  {
   "cell_type": "code",
   "execution_count": 68,
   "metadata": {
    "ExecuteTime": {
     "end_time": "2023-04-23T10:25:17.632384Z",
     "start_time": "2023-04-23T10:25:17.631065Z"
    },
    "collapsed": false
   },
   "outputs": [],
   "source": [
    "llm = OpenAI(temperature=0, openai_api_key=\"api 키 넣는 곳\")\n",
    "chain = load_qa_chain(llm, chain_type=\"stuff\")"
   ]
  },
  {
   "cell_type": "code",
   "execution_count": 114,
   "metadata": {
    "ExecuteTime": {
     "end_time": "2023-04-23T10:52:40.487964Z",
     "start_time": "2023-04-23T10:52:20.449651Z"
    },
    "collapsed": false
   },
   "outputs": [
    {
     "name": "stderr",
     "output_type": "stream",
     "text": [
      "Retrying langchain.embeddings.openai.embed_with_retry.<locals>._embed_with_retry in 4.0 seconds as it raised RateLimitError: The server is currently overloaded with other requests. Sorry about that! You can retry your request, or contact us through our help center at help.openai.com if the error persists..\n"
     ]
    }
   ],
   "source": [
    "query = \"Why do we have to use swap policy?\"\n",
    "docs = docsearch.similarity_search(query, include_metadata=True, k=2) #가장 유사도 높은 문서 2개, 약 1300토큰"
   ]
  },
  {
   "cell_type": "code",
   "execution_count": 115,
   "metadata": {
    "ExecuteTime": {
     "end_time": "2023-04-23T10:52:45.811442Z",
     "start_time": "2023-04-23T10:52:41.966664Z"
    },
    "collapsed": false
   },
   "outputs": [
    {
     "name": "stdout",
     "output_type": "stream",
     "text": [
      "Total tokens : 1740\n"
     ]
    }
   ],
   "source": [
    "from langchain.callbacks import get_openai_callback\n",
    "\n",
    "with get_openai_callback() as cb:\n",
    "    answer = chain.run(input_documents=docs, question=query)\n",
    "    print(f\"Total tokens : {cb.total_tokens}\")"
   ]
  },
  {
   "cell_type": "code",
   "execution_count": 116,
   "metadata": {
    "ExecuteTime": {
     "end_time": "2023-04-23T10:52:48.067089Z",
     "start_time": "2023-04-23T10:52:48.060662Z"
    },
    "collapsed": false
   },
   "outputs": [
    {
     "data": {
      "text/plain": [
       "' Swap policy is used to minimize the number of cache misses, i.e., to minimize the number of times that we have to fetch a page from disk. It is also used to maximize the number of cache hits, i.e., the number of times a page that is accessed is found in memory. This helps to calculate the average memory access time (AMAT) for a program.'"
      ]
     },
     "execution_count": 116,
     "metadata": {},
     "output_type": "execute_result"
    }
   ],
   "source": [
    "answer"
   ]
  }
 ],
 "metadata": {
  "kernelspec": {
   "display_name": "Python 3",
   "language": "python",
   "name": "python3"
  },
  "language_info": {
   "codemirror_mode": {
    "name": "ipython",
    "version": 2
   },
   "file_extension": ".py",
   "mimetype": "text/x-python",
   "name": "python",
   "nbconvert_exporter": "python",
   "pygments_lexer": "ipython2",
   "version": "2.7.6"
  }
 },
 "nbformat": 4,
 "nbformat_minor": 0
}
